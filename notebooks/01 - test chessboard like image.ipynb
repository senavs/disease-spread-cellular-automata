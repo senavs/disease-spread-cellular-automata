{
 "cells": [
  {
   "cell_type": "code",
   "execution_count": 58,
   "id": "b7cf90f2",
   "metadata": {},
   "outputs": [],
   "source": [
    "from enum import Enum"
   ]
  },
  {
   "cell_type": "code",
   "execution_count": 59,
   "id": "7f83a4c3",
   "metadata": {},
   "outputs": [],
   "source": [
    "class SubjectState(str, Enum):\n",
    "    OK: str = '1'\n",
    "    SICK: str = '2'\n",
    "    DEAD: str = '3'"
   ]
  },
  {
   "cell_type": "code",
   "execution_count": 1,
   "id": "e5b4951a",
   "metadata": {},
   "outputs": [],
   "source": [
    "import numpy as np\n",
    "import matplotlib.pyplot as plt"
   ]
  },
  {
   "cell_type": "code",
   "execution_count": 40,
   "id": "2567ffb1",
   "metadata": {},
   "outputs": [],
   "source": [
    "class B:\n",
    "    \n",
    "    def __init__(self, a):\n",
    "        pass"
   ]
  },
  {
   "cell_type": "code",
   "execution_count": 41,
   "id": "82d6a9eb",
   "metadata": {},
   "outputs": [],
   "source": [
    "a = np.vectorize(lambda : B(1))\n",
    "\n",
    "arr = np.empty((3, 3), dtype=object)\n",
    "arr[:,:] = a()"
   ]
  },
  {
   "cell_type": "code",
   "execution_count": 55,
   "id": "8cb58d09",
   "metadata": {},
   "outputs": [
    {
     "data": {
      "text/plain": [
       "numpy.ndarray"
      ]
     },
     "execution_count": 55,
     "metadata": {},
     "output_type": "execute_result"
    }
   ],
   "source": [
    "type(arr)"
   ]
  },
  {
   "cell_type": "code",
   "execution_count": 57,
   "id": "55b5af96",
   "metadata": {},
   "outputs": [
    {
     "data": {
      "text/plain": [
       "9"
      ]
     },
     "execution_count": 57,
     "metadata": {},
     "output_type": "execute_result"
    }
   ],
   "source": [
    "arr.size"
   ]
  },
  {
   "cell_type": "code",
   "execution_count": 42,
   "id": "1a850626",
   "metadata": {},
   "outputs": [
    {
     "data": {
      "text/plain": [
       "array([[<__main__.B object at 0x7f137170fee0>,\n",
       "        <__main__.B object at 0x7f137170fee0>,\n",
       "        <__main__.B object at 0x7f137170fee0>],\n",
       "       [<__main__.B object at 0x7f137170fee0>,\n",
       "        <__main__.B object at 0x7f137170fee0>,\n",
       "        <__main__.B object at 0x7f137170fee0>],\n",
       "       [<__main__.B object at 0x7f137170fee0>,\n",
       "        <__main__.B object at 0x7f137170fee0>,\n",
       "        <__main__.B object at 0x7f137170fee0>]], dtype=object)"
      ]
     },
     "execution_count": 42,
     "metadata": {},
     "output_type": "execute_result"
    }
   ],
   "source": [
    "arr"
   ]
  },
  {
   "cell_type": "code",
   "execution_count": 75,
   "id": "79825b59",
   "metadata": {},
   "outputs": [],
   "source": [
    "board = np.random.rand(9, 9)\n",
    "board *= 255"
   ]
  },
  {
   "cell_type": "code",
   "execution_count": 82,
   "id": "7e527f2c",
   "metadata": {},
   "outputs": [],
   "source": [
    "board = np.ones((9, 9))\n",
    "board *= 100"
   ]
  },
  {
   "cell_type": "code",
   "execution_count": 83,
   "id": "9f1acded",
   "metadata": {
    "scrolled": true
   },
   "outputs": [
    {
     "data": {
      "text/plain": [
       "<matplotlib.image.AxesImage at 0x7f1373a8d730>"
      ]
     },
     "execution_count": 83,
     "metadata": {},
     "output_type": "execute_result"
    },
    {
     "data": {
      "image/png": "[encoded data removed]",
      "text/plain": [
       "<Figure size 432x288 with 1 Axes>"
      ]
     },
     "metadata": {
      "needs_background": "light"
     },
     "output_type": "display_data"
    }
   ],
   "source": [
    "plt.imshow(board)"
   ]
  },
  {
   "cell_type": "code",
   "execution_count": 94,
   "id": "02a7faa1",
   "metadata": {},
   "outputs": [
    {
     "data": {
      "image/png": "[encoded data removed]",
      "text/plain": [
       "<Figure size 288x288 with 1 Axes>"
      ]
     },
     "metadata": {
      "needs_background": "light"
     },
     "output_type": "display_data"
    }
   ],
   "source": [
    "import matplotlib.pyplot as plt\n",
    "import numpy as np\n",
    "\n",
    "# Make a 9x9 grid...\n",
    "nrows, ncols = 9,9\n",
    "image = np.zeros(nrows*ncols)\n",
    "\n",
    "# Set every other cell to a random number (this would be your data)\n",
    "image[::2] = np.random.random(nrows*ncols //2 + 1)\n",
    "\n",
    "# Reshape things into a 9x9 grid.\n",
    "image = image.reshape((nrows, ncols))\n",
    "\n",
    "row_labels = range(nrows)\n",
    "col_labels = ['A', 'B', 'C', 'D', 'E', 'F', 'G', 'H', 'I']\n",
    "plt.matshow(image)\n",
    "plt.xticks(range(ncols), col_labels)\n",
    "plt.yticks(range(nrows), row_labels)\n",
    "plt.show()"
   ]
  },
  {
   "cell_type": "code",
   "execution_count": null,
   "id": "a0c5337b",
   "metadata": {},
   "outputs": [],
   "source": []
  }
 ],
 "metadata": {
  "kernelspec": {
   "display_name": "Python 3 (ipykernel)",
   "language": "python",
   "name": "python3"
  },
  "language_info": {
   "codemirror_mode": {
    "name": "ipython",
    "version": 3
   },
   "file_extension": ".py",
   "mimetype": "text/x-python",
   "name": "python",
   "nbconvert_exporter": "python",
   "pygments_lexer": "ipython3",
   "version": "3.9.6"
  }
 },
 "nbformat": 4,
 "nbformat_minor": 5
}
